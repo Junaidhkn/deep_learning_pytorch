{
 "cells": [
  {
   "cell_type": "code",
   "execution_count": 1,
   "id": "2b61ed67",
   "metadata": {},
   "outputs": [],
   "source": [
    "import torch"
   ]
  },
  {
   "cell_type": "code",
   "execution_count": 3,
   "id": "5a055702",
   "metadata": {},
   "outputs": [
    {
     "name": "stdout",
     "output_type": "stream",
     "text": [
      "scalar Tensor : tensor(42)\n",
      "scalar Dimension : 0\n",
      "scalar Shape : torch.Size([])\n"
     ]
    }
   ],
   "source": [
    "# 1. Scalar Tensor\n",
    "\n",
    "scalar = torch.tensor(42)\n",
    "\n",
    "print(\"scalar Tensor :\", scalar)\n",
    "print(\"scalar Dimension :\", scalar.ndim)\n",
    "print(\"scalar Shape :\", scalar.shape)\n"
   ]
  },
  {
   "cell_type": "code",
   "execution_count": 4,
   "id": "64c36bf7",
   "metadata": {},
   "outputs": [
    {
     "name": "stdout",
     "output_type": "stream",
     "text": [
      "vector Tensor : tensor([1, 3, 3, 4, 5, 5])\n",
      "vector Dimension : 1\n",
      "vector Shape : torch.Size([6])\n"
     ]
    }
   ],
   "source": [
    "# 1D Vector\n",
    "vector = torch.tensor([1,3,3,4,5,5])\n",
    "\n",
    "print(\"vector Tensor :\", vector)\n",
    "print(\"vector Dimension :\", vector.ndim)\n",
    "print(\"vector Shape :\", vector.shape)"
   ]
  },
  {
   "cell_type": "code",
   "execution_count": null,
   "id": "130680d0",
   "metadata": {},
   "outputs": [],
   "source": []
  },
  {
   "cell_type": "code",
   "execution_count": null,
   "id": "e9427e30",
   "metadata": {},
   "outputs": [],
   "source": []
  },
  {
   "cell_type": "code",
   "execution_count": null,
   "id": "2d451b8e",
   "metadata": {},
   "outputs": [],
   "source": []
  },
  {
   "cell_type": "code",
   "execution_count": null,
   "id": "99198ff4",
   "metadata": {},
   "outputs": [],
   "source": []
  }
 ],
 "metadata": {
  "kernelspec": {
   "display_name": "base",
   "language": "python",
   "name": "python3"
  },
  "language_info": {
   "codemirror_mode": {
    "name": "ipython",
    "version": 3
   },
   "file_extension": ".py",
   "mimetype": "text/x-python",
   "name": "python",
   "nbconvert_exporter": "python",
   "pygments_lexer": "ipython3",
   "version": "3.12.3"
  }
 },
 "nbformat": 4,
 "nbformat_minor": 5
}
