{
 "cells": [
  {
   "cell_type": "code",
   "execution_count": 1,
   "id": "2b61ed67",
   "metadata": {},
   "outputs": [],
   "source": [
    "import torch"
   ]
  },
  {
   "cell_type": "code",
   "execution_count": 2,
   "id": "5a055702",
   "metadata": {},
   "outputs": [
    {
     "name": "stdout",
     "output_type": "stream",
     "text": [
      "scalar Tensor : tensor(42)\n",
      "scalar Dimension : 0\n",
      "scalar Shape : torch.Size([])\n"
     ]
    }
   ],
   "source": [
    "# 1. Scalar Tensor\n",
    "\n",
    "scalar = torch.tensor(42)\n",
    "\n",
    "print(\"scalar Tensor :\", scalar)\n",
    "print(\"scalar Dimension :\", scalar.ndim)\n",
    "print(\"scalar Shape :\", scalar.shape)\n"
   ]
  },
  {
   "cell_type": "code",
   "execution_count": 3,
   "id": "64c36bf7",
   "metadata": {},
   "outputs": [
    {
     "name": "stdout",
     "output_type": "stream",
     "text": [
      "vector Tensor : tensor([1, 3, 3, 4, 5, 5])\n",
      "vector Dimension : 1\n",
      "vector Shape : torch.Size([6])\n",
      "data Type of matrix :  torch.int64\n"
     ]
    }
   ],
   "source": [
    "# 1D Vector\n",
    "vector = torch.tensor([1,3,3,4,5,5])\n",
    "\n",
    "print(\"vector Tensor :\", vector)\n",
    "print(\"vector Dimension :\", vector.ndim)\n",
    "print(\"vector Shape :\", vector.shape)\n",
    "print(\"data Type of matrix : \", vector.dtype)"
   ]
  },
  {
   "cell_type": "code",
   "execution_count": 4,
   "id": "130680d0",
   "metadata": {},
   "outputs": [
    {
     "name": "stdout",
     "output_type": "stream",
     "text": [
      "matrix_2d Tensor : tensor([[1, 5, 5],\n",
      "        [3, 3, 4]])\n",
      "matrix_2d Dimension : 2\n",
      "matrix_2d Shape : torch.Size([2, 3])\n",
      "data Type of matrix :  torch.int64\n",
      "Number of elements : 6\n"
     ]
    }
   ],
   "source": [
    "# 2D Matrix\n",
    "matrix_2d = torch.tensor([[1,5,5],[3,3,4]])\n",
    "\n",
    "print(\"matrix_2d Tensor :\", matrix_2d)\n",
    "print(\"matrix_2d Dimension :\", matrix_2d.ndim)\n",
    "print(\"matrix_2d Shape :\", matrix_2d.shape)\n",
    "print(\"data Type of matrix : \", matrix_2d.dtype)\n",
    "print(\"Number of elements :\", matrix_2d.numel())"
   ]
  },
  {
   "cell_type": "code",
   "execution_count": 5,
   "id": "e9427e30",
   "metadata": {},
   "outputs": [
    {
     "name": "stdout",
     "output_type": "stream",
     "text": [
      "Tensor : tensor([[[1, 2, 3],\n",
      "         [1, 2, 3],\n",
      "         [1, 2, 3]]])\n",
      "Tensor Dimension : 3\n",
      "Tensor Shape :  torch.Size([1, 3, 3])\n",
      "data Type of matrix :  torch.int64\n",
      "Number of elements : 9\n"
     ]
    }
   ],
   "source": [
    "# Tensor\n",
    "\n",
    "tensor = torch.tensor([\n",
    "       [[1, 2, 3], [1, 2, 3], [1, 2, 3]]\n",
    "       ])\n",
    "print('Tensor :', tensor)\n",
    "print('Tensor Dimension :' , tensor.ndim)\n",
    "print('Tensor Shape : ', tensor.shape)\n",
    "print(\"data Type of matrix : \", tensor.dtype)\n",
    "print('Number of elements :', tensor.numel())"
   ]
  },
  {
   "cell_type": "code",
   "execution_count": 6,
   "id": "2d451b8e",
   "metadata": {},
   "outputs": [
    {
     "name": "stdout",
     "output_type": "stream",
     "text": [
      "CUDA is not available on this machine\n"
     ]
    }
   ],
   "source": [
    "# For GPU Acceleration\n",
    "\n",
    "if torch.cuda.is_available():\n",
    "   gpu_tensor = vector.to('cuda')\n",
    "   print(\"Tensor on GPU: \", gpu_tensor)\n",
    "else:\n",
    "   print(\"CUDA is not available on this machine\")"
   ]
  },
  {
   "cell_type": "code",
   "execution_count": 7,
   "id": "99198ff4",
   "metadata": {},
   "outputs": [
    {
     "name": "stdout",
     "output_type": "stream",
     "text": [
      "Device cpu\n"
     ]
    }
   ],
   "source": [
    "# Check to see the device its running on\n",
    "\n",
    "print(\"Device\", matrix_2d.device)"
   ]
  },
  {
   "cell_type": "code",
   "execution_count": 8,
   "id": "32338894",
   "metadata": {},
   "outputs": [
    {
     "name": "stdout",
     "output_type": "stream",
     "text": [
      "Processor: x86_64\n",
      "Machine: x86_64\n",
      "System: Linux\n",
      "CPU count: 2\n"
     ]
    }
   ],
   "source": [
    "import platform\n",
    "import os\n",
    "\n",
    "print(\"Processor:\", platform.processor())\n",
    "print(\"Machine:\", platform.machine())\n",
    "print(\"System:\", platform.system())\n",
    "print(\"CPU count:\", os.cpu_count())"
   ]
  },
  {
   "cell_type": "code",
   "execution_count": 9,
   "id": "a3e5872e",
   "metadata": {},
   "outputs": [
    {
     "name": "stdout",
     "output_type": "stream",
     "text": [
      "CPU cores: 2\n",
      "RAM (GB): 8.33\n"
     ]
    }
   ],
   "source": [
    "import os, psutil\n",
    "\n",
    "print(\"CPU cores:\", os.cpu_count())\n",
    "print(\"RAM (GB):\", round(psutil.virtual_memory().total / 1e9, 2))"
   ]
  },
  {
   "cell_type": "code",
   "execution_count": 10,
   "id": "65f4ddb6",
   "metadata": {},
   "outputs": [],
   "source": [
    "# If nvidia is being used then\n",
    "\n",
    "# !nvidia-smi"
   ]
  },
  {
   "cell_type": "code",
   "execution_count": null,
   "id": "9db31146",
   "metadata": {},
   "outputs": [
    {
     "name": "stdout",
     "output_type": "stream",
     "text": [
      "2\n",
      "tensor(33)\n",
      "tensor([10, 30, 33])\n",
      "tensor([10, 40, 23])\n"
     ]
    }
   ],
   "source": [
    "# Accessing elements in a tensor\n",
    "tensor = torch.tensor([[10,30,33],[40,50,65],[23,54,54]])\n",
    "\n",
    "print(tensor.ndim)\n",
    "# Element by position\n",
    "print(tensor[0,2])\n",
    "# Row\n",
    "print(tensor[0])\n",
    "# Coloumn\n",
    "print(tensor[:,0])"
   ]
  },
  {
   "cell_type": "code",
   "execution_count": 48,
   "id": "f2c34ca4",
   "metadata": {},
   "outputs": [
    {
     "name": "stdout",
     "output_type": "stream",
     "text": [
      "tensor([[100, 500,  33],\n",
      "        [100,  50,  65],\n",
      "        [100,  54,  54]])\n",
      "first two rows: \n",
      " tensor([[100, 500,  33],\n",
      "        [100,  50,  65]])\n",
      "first two coloumns : \n",
      " tensor([[100, 500],\n",
      "        [100,  50],\n",
      "        [100,  54]])\n",
      "tensor([50, 65])\n",
      "tensor([100,  54])\n",
      "tensor([[ True,  True, False],\n",
      "        [ True, False,  True],\n",
      "        [ True,  True,  True]])\n",
      "tensor([100, 500, 100,  65, 100,  54,  54])\n",
      "tensor([[100, 500,  33],\n",
      "        [200,  50,  65],\n",
      "        [300,  54,  54]])\n"
     ]
    }
   ],
   "source": [
    "# Slicing\n",
    "print(tensor)\n",
    "print(\"first two rows: \\n\", tensor[:2])\n",
    "print(\"first two coloumns : \\n\", tensor[:,:2])\n",
    "# To access [50,60]\n",
    "print(tensor[1,1:]) # tensor[1,1:3]\n",
    "# accessing random elements that are not in order ie accessing (40,54)\n",
    "print(tensor[[1,2],[0,2]])\n",
    "# Boolean indexing\n",
    "mask = tensor > 50\n",
    "print(mask)\n",
    "print(tensor[mask])\n",
    "# Changing tensor values via Index position\n",
    "tensor[0,1] = 500\n",
    "# Changing tensor colums or rows via Index position\n",
    "tensor[:,0] = torch.tensor([100,200,300])\n",
    "\n",
    "print(tensor)"
   ]
  },
  {
   "cell_type": "code",
   "execution_count": 49,
   "id": "fd4792e2",
   "metadata": {},
   "outputs": [
    {
     "name": "stdout",
     "output_type": "stream",
     "text": [
      "tensor([[100, 500,  33],\n",
      "        [300,  54,  54]])\n"
     ]
    }
   ],
   "source": [
    "indices = torch.tensor([0,2])\n",
    "# dim = 0 mean rows and dim = 1 equals columns\n",
    "selected_rows = torch.index_select(tensor,dim=0,index = indices)\n",
    "print(selected_rows)"
   ]
  },
  {
   "cell_type": "code",
   "execution_count": 56,
   "id": "a161cbe3",
   "metadata": {},
   "outputs": [
    {
     "data": {
      "text/plain": [
       "tensor([[300,  54,  54],\n",
       "        [200,  50,  65],\n",
       "        [100, 500,  33]])"
      ]
     },
     "execution_count": 56,
     "metadata": {},
     "output_type": "execute_result"
    }
   ],
   "source": [
    "# Fliping rows and columns\n",
    "torch.flip(tensor,[0,])"
   ]
  },
  {
   "cell_type": "code",
   "execution_count": null,
   "id": "7d8581ec",
   "metadata": {},
   "outputs": [],
   "source": []
  },
  {
   "cell_type": "code",
   "execution_count": null,
   "id": "7932790a",
   "metadata": {},
   "outputs": [],
   "source": []
  },
  {
   "cell_type": "code",
   "execution_count": null,
   "id": "5f5917a5",
   "metadata": {},
   "outputs": [],
   "source": []
  }
 ],
 "metadata": {
  "kernelspec": {
   "display_name": "base",
   "language": "python",
   "name": "python3"
  },
  "language_info": {
   "codemirror_mode": {
    "name": "ipython",
    "version": 3
   },
   "file_extension": ".py",
   "mimetype": "text/x-python",
   "name": "python",
   "nbconvert_exporter": "python",
   "pygments_lexer": "ipython3",
   "version": "3.12.3"
  }
 },
 "nbformat": 4,
 "nbformat_minor": 5
}
