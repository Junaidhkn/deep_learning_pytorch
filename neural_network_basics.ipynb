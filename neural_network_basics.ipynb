{
 "cells": [
  {
   "cell_type": "code",
   "execution_count": 1,
   "id": "d51376f0",
   "metadata": {},
   "outputs": [],
   "source": [
    "import torch \n",
    "import torch.nn as nn\n",
    "import torch.optim as optim"
   ]
  },
  {
   "cell_type": "markdown",
   "id": "61821b20",
   "metadata": {},
   "source": [
    "### Basic Neural Network using PyTorch\n",
    "\n",
    "\n",
    "###### X --> Input\n",
    "\n",
    "###### Wx --> Weights\n",
    "\n",
    "###### b --> Bias\n",
    "\n",
    "###### Y --> Output\n",
    "\n",
    "###### A --> Activation Function (Sigmoid,ReLU,Tanh)\n",
    "\n",
    "###### Z = WX + b\n",
    "\n",
    "###### Z` = Activation(Z)\n",
    "\n",
    "###### Y = W2.Z` + b2\n",
    "\n",
    "\n",
    "- Loss Function: MSE, Cross Entropy\n",
    "- Backpropagation: Gradient Descent, Adam, RMSProp\n",
    "- Optimizer: SGD, Adam, RMSProp\n",
    " \n",
    "\n",
    "\n",
    "### Components of Pytorch\n",
    "\n",
    "- Base class for defining cutom models is `torch.nn.Module`\n",
    "- Layers are defined in `__init__` method\n",
    "- Forward pass is defined in `forward` method\n",
    "- Loss functions are defined in `torch.nn` module\n",
    "- Optimizers are defined in `torch.optim` module\n",
    "- Data loading and preprocessing is done using `torch.utils.data` module\n",
    "- Fully connected layer is defined using `torch.nn.Linear`\n",
    "- Activation functions are defined in `torch.nn.ReLU` module \n",
    "- Optimizers are defined in `torch.optim` module\n",
    "- Loss functions are defined in `torch.nn.CrossEntropyLoss` module\n",
    "- Loads data in batches using `torch.utils.data.DataLoader` module\n",
    "\n",
    "\n",
    "### Different ways to define a model in Pytorch\n",
    "\n",
    "1. Functional: Flexable, harder to interpret\n",
    "2. Sequential: Easy to interpret, less flexable\n",
    "3. Custom: Most flexable, harder to interpret"
   ]
  },
  {
   "cell_type": "markdown",
   "id": "8735aaa1",
   "metadata": {},
   "source": [
    "### Functional API"
   ]
  },
  {
   "cell_type": "code",
   "execution_count": 2,
   "id": "eaeceb8a",
   "metadata": {},
   "outputs": [],
   "source": [
    "class SimpleNN(nn.Module):\n",
    "   def __init__(self,input_size,hidden_size,output_size):\n",
    "      super(SimpleNN,self).__init__()\n",
    "       \n",
    "      self.fullyConnectedLayer_1 = nn.Linear(input_size,hidden_size)\n",
    "      self.relu = nn.ReLU()\n",
    "      self.fullyConnnectedLayer_2 = nn.Linear(hidden_size,output_size)\n",
    "       \n",
    "       \n",
    "   def forward(self,x):\n",
    "      x = self.fullyConnectedLayer_1(x)\n",
    "      x = self.relu(x)\n",
    "      x = self.fullyConnnectedLayer_2(x)\n",
    "      return x"
   ]
  },
  {
   "cell_type": "markdown",
   "id": "24ebcc3d",
   "metadata": {},
   "source": [
    "### Sequential API\n"
   ]
  },
  {
   "cell_type": "code",
   "execution_count": 3,
   "id": "0056b6ae",
   "metadata": {},
   "outputs": [],
   "source": [
    "class SimpleNNSequential(nn.Module):\n",
    "    def __init__(self, input_size, hidden_size, output_size):\n",
    "        super(SimpleNN, self).__init__()\n",
    "\n",
    "        self.network = nn.Sequential(\n",
    "            nn.Linear(input_size, hidden_size),\n",
    "            nn.ReLU(),\n",
    "            nn.Linear(hidden_size, output_size)\n",
    "        )\n",
    "\n",
    "    def forward(self, x):\n",
    "        return self.network(x)"
   ]
  },
  {
   "cell_type": "markdown",
   "id": "aa27bcf6",
   "metadata": {},
   "source": [
    "### Training the neural network using Functional API\n"
   ]
  },
  {
   "cell_type": "code",
   "execution_count": 4,
   "metadata": {},
   "outputs": [
    {
     "name": "stdout",
     "output_type": "stream",
     "text": [
      "SimpleNN(\n",
      "  (fullyConnectedLayer_1): Linear(in_features=4, out_features=8, bias=True)\n",
      "  (relu): ReLU()\n",
      "  (fullyConnnectedLayer_2): Linear(in_features=8, out_features=3, bias=True)\n",
      ")\n"
     ]
    }
   ],
   "source": [
    "model_func = SimpleNN(input_size=4, hidden_size=8,output_size=3)\n",
    "print(model_func)"
   ]
  },
  {
   "cell_type": "code",
   "execution_count": 5,
   "id": "2c261988",
   "metadata": {},
   "outputs": [
    {
     "name": "stdout",
     "output_type": "stream",
     "text": [
      "tensor([[ 1.1078e-02,  7.1471e-01, -2.9741e-01,  1.0817e-01],\n",
      "        [-7.0193e-01, -1.5220e+00,  5.2227e-01,  2.0043e-01],\n",
      "        [ 2.7192e+00, -1.1287e+00, -9.6982e-01,  9.9883e-01],\n",
      "        [-2.0749e-01,  1.0156e-03, -9.5886e-01,  6.5245e-01],\n",
      "        [-2.0277e-01, -1.7470e-02, -6.4231e-01, -7.9846e-01],\n",
      "        [-8.2634e-01,  8.4686e-01, -4.1232e-01, -2.4988e-01],\n",
      "        [-5.1659e-01,  1.4309e+00,  7.0469e-01,  6.1677e-01],\n",
      "        [ 2.4391e-01,  5.5396e-01,  5.6156e-01, -1.4503e+00],\n",
      "        [ 7.8056e-01, -2.9445e-02, -9.5471e-02, -1.5726e+00],\n",
      "        [ 8.0370e-02,  2.0079e+00,  2.9171e-01,  1.9636e-01]])\n",
      "tensor([1, 2, 0, 1, 1, 1, 2, 2, 0, 1])\n"
     ]
    }
   ],
   "source": [
    "X = torch.randn(10,4) # 10 samples, 4 features\n",
    "Y = torch.randint(0,3,(10,))\n",
    "\n",
    "print(X)\n",
    "print(Y)"
   ]
  },
  {
   "cell_type": "code",
   "execution_count": 6,
   "metadata": {},
   "outputs": [],
   "source": [
    "criterion = nn.CrossEntropyLoss() # includes the advance version of sigmax function\n",
    "optimizer = optim.Adam(model_func.parameters(),lr=0.01)"
   ]
  },
  {
   "cell_type": "code",
   "execution_count": 7,
   "metadata": {},
   "outputs": [
    {
     "name": "stdout",
     "output_type": "stream",
     "text": [
      "Epoch [10]/300 , Loss : 0.9285\n",
      "Epoch [20]/300 , Loss : 0.7490\n",
      "Epoch [30]/300 , Loss : 0.5819\n",
      "Epoch [40]/300 , Loss : 0.4421\n",
      "Epoch [50]/300 , Loss : 0.3183\n",
      "Epoch [60]/300 , Loss : 0.2122\n",
      "Epoch [70]/300 , Loss : 0.1375\n",
      "Epoch [80]/300 , Loss : 0.0864\n",
      "Epoch [90]/300 , Loss : 0.0560\n",
      "Epoch [100]/300 , Loss : 0.0385\n",
      "Epoch [110]/300 , Loss : 0.0284\n",
      "Epoch [120]/300 , Loss : 0.0220\n",
      "Epoch [130]/300 , Loss : 0.0177\n",
      "Epoch [140]/300 , Loss : 0.0146\n",
      "Epoch [150]/300 , Loss : 0.0124\n",
      "Epoch [160]/300 , Loss : 0.0106\n",
      "Epoch [170]/300 , Loss : 0.0093\n",
      "Epoch [180]/300 , Loss : 0.0082\n",
      "Epoch [190]/300 , Loss : 0.0073\n",
      "Epoch [200]/300 , Loss : 0.0065\n",
      "Epoch [210]/300 , Loss : 0.0059\n",
      "Epoch [220]/300 , Loss : 0.0054\n",
      "Epoch [230]/300 , Loss : 0.0049\n",
      "Epoch [240]/300 , Loss : 0.0045\n",
      "Epoch [250]/300 , Loss : 0.0041\n",
      "Epoch [260]/300 , Loss : 0.0038\n",
      "Epoch [270]/300 , Loss : 0.0035\n",
      "Epoch [280]/300 , Loss : 0.0033\n",
      "Epoch [290]/300 , Loss : 0.0031\n",
      "Epoch [300]/300 , Loss : 0.0029\n"
     ]
    }
   ],
   "source": [
    "# Training Loop\n",
    "epoch = 300\n",
    "for e in range(epoch):\n",
    "   optimizer.zero_grad() # Clear all the gradients\n",
    "   outputs = model_func(X) # Passing inputs\n",
    "   loss = criterion(outputs,Y)\n",
    "   loss.backward()\n",
    "   optimizer.step()\n",
    "   \n",
    "   if(e+1) % 10 == 0:\n",
    "      print(f\"Epoch [{e+1}]/{epoch} , Loss : {loss.item() :.4f}\")\n",
    "   "
   ]
  },
  {
   "cell_type": "markdown",
   "id": "b542f8de",
   "metadata": {},
   "source": [
    "#### <b><U>Linear Regression Model using Pytorch Components\n",
    " </U> </b>\n",
    "\n",
    "1. Data gathering\n",
    "2. Data preprocessing\n",
    "3. Feature engineering\n",
    "4. Model training\n",
    "5. Testing\n",
    "\n"
   ]
  },
  {
   "cell_type": "code",
   "execution_count": 8,
   "id": "a43a6bad",
   "metadata": {},
   "outputs": [
    {
     "name": "stdout",
     "output_type": "stream",
     "text": [
      "Requirement already satisfied: kagglehub in /opt/conda/lib/python3.12/site-packages (0.3.13)\n",
      "Requirement already satisfied: packaging in /home/codespace/.local/lib/python3.12/site-packages (from kagglehub) (25.0)\n",
      "Requirement already satisfied: pyyaml in /home/codespace/.local/lib/python3.12/site-packages (from kagglehub) (6.0.2)\n",
      "Requirement already satisfied: requests in /home/codespace/.local/lib/python3.12/site-packages (from kagglehub) (2.32.4)\n",
      "Requirement already satisfied: tqdm in /opt/conda/lib/python3.12/site-packages (from kagglehub) (4.66.2)\n",
      "Requirement already satisfied: charset_normalizer<4,>=2 in /home/codespace/.local/lib/python3.12/site-packages (from requests->kagglehub) (3.4.2)\n",
      "Requirement already satisfied: idna<4,>=2.5 in /home/codespace/.local/lib/python3.12/site-packages (from requests->kagglehub) (3.10)\n",
      "Requirement already satisfied: urllib3<3,>=1.21.1 in /home/codespace/.local/lib/python3.12/site-packages (from requests->kagglehub) (2.5.0)\n",
      "Requirement already satisfied: certifi>=2017.4.17 in /home/codespace/.local/lib/python3.12/site-packages (from requests->kagglehub) (2025.7.9)\n",
      "\n",
      "\u001b[1m[\u001b[0m\u001b[34;49mnotice\u001b[0m\u001b[1;39;49m]\u001b[0m\u001b[39;49m A new release of pip is available: \u001b[0m\u001b[31;49m25.1.1\u001b[0m\u001b[39;49m -> \u001b[0m\u001b[32;49m25.2\u001b[0m\n",
      "\u001b[1m[\u001b[0m\u001b[34;49mnotice\u001b[0m\u001b[1;39;49m]\u001b[0m\u001b[39;49m To update, run: \u001b[0m\u001b[32;49mpip install --upgrade pip\u001b[0m\n"
     ]
    }
   ],
   "source": [
    "!pip install kagglehub"
   ]
  },
  {
   "cell_type": "code",
   "execution_count": 9,
   "id": "2f404b46",
   "metadata": {},
   "outputs": [
    {
     "name": "stderr",
     "output_type": "stream",
     "text": [
      "/opt/conda/lib/python3.12/site-packages/tqdm/auto.py:21: TqdmWarning: IProgress not found. Please update jupyter and ipywidgets. See https://ipywidgets.readthedocs.io/en/stable/user_install.html\n",
      "  from .autonotebook import tqdm as notebook_tqdm\n"
     ]
    },
    {
     "name": "stdout",
     "output_type": "stream",
     "text": [
      "Downloaded dataset path: /home/codespace/.cache/kagglehub/datasets/mirichoi0218/insurance/versions/1\n",
      "Dataset copied to: ./data/insurance\n"
     ]
    }
   ],
   "source": [
    "import kagglehub\n",
    "import os\n",
    "import shutil\n",
    "\n",
    "# Download dataset (cached location by kagglehub)\n",
    "path = kagglehub.dataset_download(\"mirichoi0218/insurance\")\n",
    "print(f\"Downloaded dataset path: {path}\")\n",
    "\n",
    "# Define your custom target directory\n",
    "target_dir = \"./data/insurance\"\n",
    "\n",
    "# Make sure the directory exists\n",
    "os.makedirs(target_dir, exist_ok=True)\n",
    "\n",
    "# Copy all files from kagglehub cache to your custom directory\n",
    "for file_name in os.listdir(path):\n",
    "    src = os.path.join(path, file_name)\n",
    "    dst = os.path.join(target_dir, file_name)\n",
    "    shutil.copy2(src, dst)  # copy2 preserves metadata\n",
    "\n",
    "print(f\"Dataset copied to: {target_dir}\")"
   ]
  },
  {
   "cell_type": "code",
   "execution_count": 10,
   "id": "3c600cb3",
   "metadata": {},
   "outputs": [],
   "source": [
    "import pandas as pd\n",
    "from sklearn.preprocessing import LabelEncoder, StandardScaler\n",
    "from sklearn.model_selection import train_test_split"
   ]
  },
  {
   "cell_type": "code",
   "execution_count": 11,
   "id": "d5e0ea99",
   "metadata": {},
   "outputs": [],
   "source": [
    "df = pd.read_csv('./data/insurance/insurance.csv')"
   ]
  },
  {
   "cell_type": "code",
   "execution_count": 12,
   "id": "357d767f",
   "metadata": {},
   "outputs": [
    {
     "name": "stdout",
     "output_type": "stream",
     "text": [
      "<class 'pandas.core.frame.DataFrame'>\n",
      "RangeIndex: 1338 entries, 0 to 1337\n",
      "Data columns (total 7 columns):\n",
      " #   Column    Non-Null Count  Dtype  \n",
      "---  ------    --------------  -----  \n",
      " 0   age       1338 non-null   int64  \n",
      " 1   sex       1338 non-null   object \n",
      " 2   bmi       1338 non-null   float64\n",
      " 3   children  1338 non-null   int64  \n",
      " 4   smoker    1338 non-null   object \n",
      " 5   region    1338 non-null   object \n",
      " 6   charges   1338 non-null   float64\n",
      "dtypes: float64(2), int64(2), object(3)\n",
      "memory usage: 73.3+ KB\n"
     ]
    }
   ],
   "source": [
    "df.info()"
   ]
  },
  {
   "cell_type": "code",
   "execution_count": 13,
   "metadata": {},
   "outputs": [
    {
     "data": {
      "text/html": [
       "<div>\n",
       "<style scoped>\n",
       "    .dataframe tbody tr th:only-of-type {\n",
       "        vertical-align: middle;\n",
       "    }\n",
       "\n",
       "    .dataframe tbody tr th {\n",
       "        vertical-align: top;\n",
       "    }\n",
       "\n",
       "    .dataframe thead th {\n",
       "        text-align: right;\n",
       "    }\n",
       "</style>\n",
       "<table border=\"1\" class=\"dataframe\">\n",
       "  <thead>\n",
       "    <tr style=\"text-align: right;\">\n",
       "      <th></th>\n",
       "      <th>age</th>\n",
       "      <th>bmi</th>\n",
       "      <th>children</th>\n",
       "      <th>charges</th>\n",
       "    </tr>\n",
       "  </thead>\n",
       "  <tbody>\n",
       "    <tr>\n",
       "      <th>count</th>\n",
       "      <td>1338.000000</td>\n",
       "      <td>1338.000000</td>\n",
       "      <td>1338.000000</td>\n",
       "      <td>1338.000000</td>\n",
       "    </tr>\n",
       "    <tr>\n",
       "      <th>mean</th>\n",
       "      <td>39.207025</td>\n",
       "      <td>30.663397</td>\n",
       "      <td>1.094918</td>\n",
       "      <td>13270.422265</td>\n",
       "    </tr>\n",
       "    <tr>\n",
       "      <th>std</th>\n",
       "      <td>14.049960</td>\n",
       "      <td>6.098187</td>\n",
       "      <td>1.205493</td>\n",
       "      <td>12110.011237</td>\n",
       "    </tr>\n",
       "    <tr>\n",
       "      <th>min</th>\n",
       "      <td>18.000000</td>\n",
       "      <td>15.960000</td>\n",
       "      <td>0.000000</td>\n",
       "      <td>1121.873900</td>\n",
       "    </tr>\n",
       "    <tr>\n",
       "      <th>25%</th>\n",
       "      <td>27.000000</td>\n",
       "      <td>26.296250</td>\n",
       "      <td>0.000000</td>\n",
       "      <td>4740.287150</td>\n",
       "    </tr>\n",
       "    <tr>\n",
       "      <th>50%</th>\n",
       "      <td>39.000000</td>\n",
       "      <td>30.400000</td>\n",
       "      <td>1.000000</td>\n",
       "      <td>9382.033000</td>\n",
       "    </tr>\n",
       "    <tr>\n",
       "      <th>75%</th>\n",
       "      <td>51.000000</td>\n",
       "      <td>34.693750</td>\n",
       "      <td>2.000000</td>\n",
       "      <td>16639.912515</td>\n",
       "    </tr>\n",
       "    <tr>\n",
       "      <th>max</th>\n",
       "      <td>64.000000</td>\n",
       "      <td>53.130000</td>\n",
       "      <td>5.000000</td>\n",
       "      <td>63770.428010</td>\n",
       "    </tr>\n",
       "  </tbody>\n",
       "</table>\n",
       "</div>"
      ],
      "text/plain": [
       "               age          bmi     children       charges\n",
       "count  1338.000000  1338.000000  1338.000000   1338.000000\n",
       "mean     39.207025    30.663397     1.094918  13270.422265\n",
       "std      14.049960     6.098187     1.205493  12110.011237\n",
       "min      18.000000    15.960000     0.000000   1121.873900\n",
       "25%      27.000000    26.296250     0.000000   4740.287150\n",
       "50%      39.000000    30.400000     1.000000   9382.033000\n",
       "75%      51.000000    34.693750     2.000000  16639.912515\n",
       "max      64.000000    53.130000     5.000000  63770.428010"
      ]
     },
     "execution_count": 13,
     "metadata": {},
     "output_type": "execute_result"
    }
   ],
   "source": [
    "df.describe()"
   ]
  },
  {
   "cell_type": "code",
   "execution_count": 14,
   "metadata": {},
   "outputs": [
    {
     "name": "stdout",
     "output_type": "stream",
     "text": [
      "      age     sex    bmi  children smoker     region      charges\n",
      "560    46  female  19.95         2     no  northwest   9193.83850\n",
      "1285   47  female  24.32         0     no  northeast   8534.67180\n",
      "1142   52  female  24.86         0     no  southeast  27117.99378\n",
      "969    39  female  34.32         5     no  southeast   8596.82780\n",
      "486    54  female  21.47         3     no  northwest  12475.35130\n"
     ]
    }
   ],
   "source": [
    "# Split dataset before encoding\n",
    "train_df, test_df = train_test_split(df, test_size=0.2, random_state=42)\n",
    "print(train_df.head())"
   ]
  },
  {
   "cell_type": "code",
   "execution_count": 15,
   "id": "7d853801",
   "metadata": {},
   "outputs": [
    {
     "name": "stdout",
     "output_type": "stream",
     "text": [
      "Classes for sex: ['female' 'male']\n",
      "Classes for smoker: ['no' 'yes']\n",
      "Classes for region: ['northeast' 'northwest' 'southeast' 'southwest']\n",
      "Final label_encoder keys: dict_values([LabelEncoder(), LabelEncoder(), LabelEncoder()])\n",
      "      age  sex    bmi  children  smoker  region      charges\n",
      "560    46    0  19.95         2       0       1   9193.83850\n",
      "1285   47    0  24.32         0       0       0   8534.67180\n",
      "1142   52    0  24.86         0       0       2  27117.99378\n",
      "969    39    0  34.32         5       0       2   8596.82780\n",
      "486    54    0  21.47         3       0       1  12475.35130\n"
     ]
    }
   ],
   "source": [
    "# Encode cetagorical variable\n",
    "label_encoder = {}\n",
    "for col in [\"sex\", \"smoker\", \"region\"]:\n",
    "    le = LabelEncoder()\n",
    "    train_df[col] = le.fit_transform(train_df[col])\n",
    "    test_df[col] = le.transform(test_df[col])\n",
    "    label_encoder[col] = le\n",
    "    print(f\"Classes for {col}: {le.classes_}\")\n",
    "\n",
    "print(\"Final label_encoder keys:\", label_encoder.values())\n",
    "print(train_df.head())"
   ]
  },
  {
   "cell_type": "code",
   "execution_count": 16,
   "id": "9909b77a",
   "metadata": {},
   "outputs": [],
   "source": [
    "# Features and target\n",
    "X_train = train_df.drop(columns=[\"charges\"]) # Here we have excluded the charges column\n",
    "y_train = train_df[\"charges\"]\n",
    "\n",
    "X_test = test_df.drop(columns=[\"charges\"])\n",
    "y_test = test_df[\"charges\"]"
   ]
  },
  {
   "cell_type": "code",
   "execution_count": 17,
   "id": "3c30b7d1",
   "metadata": {},
   "outputs": [
    {
     "name": "stdout",
     "output_type": "stream",
     "text": [
      "X_train :\n",
      "       age  sex    bmi  children  smoker  region\n",
      "560    46    0  19.95         2       0       1\n",
      "1285   47    0  24.32         0       0       0\n",
      "1142   52    0  24.86         0       0       2\n",
      "969    39    0  34.32         5       0       2\n",
      "486    54    0  21.47         3       0       1\n",
      "y_train :\n",
      " 560      9193.83850\n",
      "1285     8534.67180\n",
      "1142    27117.99378\n",
      "969      8596.82780\n",
      "486     12475.35130\n",
      "Name: charges, dtype: float64\n",
      "[ 9193.8385   8534.6718  27117.99378 ... 11931.12525 46113.511\n",
      " 10214.636  ]\n"
     ]
    }
   ],
   "source": [
    "print(\"X_train :\\n\",X_train.head())\n",
    "print(\"y_train :\\n\",y_train.head())\n",
    "print(y_train.values)"
   ]
  },
  {
   "cell_type": "code",
   "execution_count": 18,
   "id": "0badc2b9",
   "metadata": {},
   "outputs": [],
   "source": [
    "# Normalize features\n",
    "scaler = StandardScaler()\n",
    "X_train = scaler.fit_transform(X_train)\n",
    "X_test = scaler.transform(X_test)"
   ]
  },
  {
   "cell_type": "code",
   "execution_count": 19,
   "id": "a825aa96",
   "metadata": {},
   "outputs": [
    {
     "name": "stdout",
     "output_type": "stream",
     "text": [
      "[[ 0.47222651 -1.0246016  -1.75652513  0.73433626 -0.50874702 -0.45611589]\n",
      " [ 0.54331294 -1.0246016  -1.03308239 -0.91119211 -0.50874702 -1.35325561]\n",
      " [ 0.8987451  -1.0246016  -0.94368672 -0.91119211 -0.50874702  0.44102382]\n",
      " ...\n",
      " [ 1.3252637   0.97598911 -0.89153925 -0.91119211 -0.50874702 -1.35325561]\n",
      " [-0.16755139 -1.0246016   2.82086429  0.73433626  1.96561348  1.33816354]\n",
      " [ 1.1120044   0.97598911 -0.10932713 -0.91119211 -0.50874702  1.33816354]]\n"
     ]
    }
   ],
   "source": [
    "print(X_train)"
   ]
  },
  {
   "cell_type": "code",
   "execution_count": 20,
   "id": "c310b075",
   "metadata": {},
   "outputs": [],
   "source": [
    "# Convert to tensors\n",
    "X_train_tensor = torch.tensor(X_train, dtype=torch.float32)\n",
    "y_train_tensor = torch.tensor(y_train.values, dtype=torch.float32).view(-1, 1)\n",
    "X_test_tensor = torch.tensor(X_test, dtype=torch.float32)\n",
    "y_test_tensor = torch.tensor(y_test.values, dtype=torch.float32).view(-1, 1)"
   ]
  },
  {
   "cell_type": "code",
   "execution_count": 21,
   "id": "da588d27",
   "metadata": {},
   "outputs": [
    {
     "name": "stdout",
     "output_type": "stream",
     "text": [
      "tensor([[ 9193.8389],\n",
      "        [ 8534.6719],\n",
      "        [27117.9941],\n",
      "        ...,\n",
      "        [11931.1250],\n",
      "        [46113.5117],\n",
      "        [10214.6357]])\n",
      "torch.Size([1070, 1])\n"
     ]
    }
   ],
   "source": [
    "print(y_train_tensor)\n",
    "print(y_train_tensor.shape)"
   ]
  },
  {
   "cell_type": "code",
   "execution_count": 22,
   "id": "87c957e3",
   "metadata": {},
   "outputs": [
    {
     "name": "stdout",
     "output_type": "stream",
     "text": [
      "tensor([[ 0.4011, -1.0246, -0.8915,  0.7343, -0.5087, -1.3533],\n",
      "        [-0.2386, -1.0246, -0.0895, -0.9112, -0.5087, -0.4561],\n",
      "        [ 1.7518, -1.0246, -0.6085, -0.9112,  1.9656, -0.4561],\n",
      "        ...,\n",
      "        [-0.0965,  0.9760, -0.4197, -0.0884, -0.5087, -1.3533],\n",
      "        [ 1.0409, -1.0246,  2.7894, -0.9112,  1.9656,  0.4410],\n",
      "        [ 0.8277, -1.0246,  0.6025, -0.0884, -0.5087,  1.3382]])\n",
      "torch.Size([268, 6])\n"
     ]
    }
   ],
   "source": [
    "print(X_test_tensor)\n",
    "print(X_test_tensor.shape)"
   ]
  },
  {
   "cell_type": "code",
   "execution_count": 23,
   "id": "ea671a41",
   "metadata": {},
   "outputs": [],
   "source": [
    "# Define Neural network model\n",
    "\n",
    "\n",
    "class SimpleNNRegressionModel(nn.Module):\n",
    "    def __init__(self, input_dim):\n",
    "        super(SimpleNNRegressionModel, self).__init__()\n",
    "        self.network = nn.Sequential(\n",
    "            nn.Linear(input_dim, 64),\n",
    "            nn.ReLU(),\n",
    "            nn.Linear(64, 128),\n",
    "            nn.ReLU(),\n",
    "            nn.Linear(128, 1),\n",
    "        )\n",
    "\n",
    "    def forward(self, x):\n",
    "        return self.network(x)"
   ]
  },
  {
   "cell_type": "code",
   "execution_count": 24,
   "id": "b0130402",
   "metadata": {},
   "outputs": [
    {
     "data": {
      "text/plain": [
       "torch.Size([1070, 6])"
      ]
     },
     "execution_count": 24,
     "metadata": {},
     "output_type": "execute_result"
    }
   ],
   "source": [
    "X_train_tensor.shape"
   ]
  },
  {
   "cell_type": "code",
   "execution_count": 25,
   "id": "56c44a34",
   "metadata": {},
   "outputs": [],
   "source": [
    "input_dim = X_train_tensor.shape[1]\n",
    "model = SimpleNNRegressionModel(input_dim)"
   ]
  },
  {
   "cell_type": "code",
   "execution_count": 26,
   "id": "b95605af",
   "metadata": {},
   "outputs": [
    {
     "name": "stdout",
     "output_type": "stream",
     "text": [
      "SimpleNNRegressionModel(\n",
      "  (network): Sequential(\n",
      "    (0): Linear(in_features=6, out_features=64, bias=True)\n",
      "    (1): ReLU()\n",
      "    (2): Linear(in_features=64, out_features=128, bias=True)\n",
      "    (3): ReLU()\n",
      "    (4): Linear(in_features=128, out_features=1, bias=True)\n",
      "  )\n",
      ")\n"
     ]
    }
   ],
   "source": [
    "print(model)"
   ]
  },
  {
   "cell_type": "code",
   "execution_count": 27,
   "id": "085bd77f",
   "metadata": {},
   "outputs": [],
   "source": [
    "# Loss and optmiser\n",
    "\n",
    "criterion = nn.MSELoss()\n",
    "optimiser = optim.Adam(model.parameters(), lr=0.01)"
   ]
  },
  {
   "cell_type": "code",
   "execution_count": 28,
   "id": "dcd0cfe5",
   "metadata": {},
   "outputs": [
    {
     "name": "stdout",
     "output_type": "stream",
     "text": [
      "Epoch [100/30000], Loss : 45442196.0000\n",
      "Epoch [200/30000], Loss : 31621372.0000\n"
     ]
    },
    {
     "name": "stdout",
     "output_type": "stream",
     "text": [
      "Epoch [300/30000], Loss : 28928400.0000\n",
      "Epoch [400/30000], Loss : 27083222.0000\n",
      "Epoch [500/30000], Loss : 26010146.0000\n",
      "Epoch [600/30000], Loss : 25244390.0000\n",
      "Epoch [700/30000], Loss : 24601858.0000\n",
      "Epoch [800/30000], Loss : 24110354.0000\n",
      "Epoch [900/30000], Loss : 23748598.0000\n",
      "Epoch [1000/30000], Loss : 23458052.0000\n",
      "Epoch [1100/30000], Loss : 23227280.0000\n",
      "Epoch [1200/30000], Loss : 22999318.0000\n",
      "Epoch [1300/30000], Loss : 22795648.0000\n",
      "Epoch [1400/30000], Loss : 22596582.0000\n",
      "Epoch [1500/30000], Loss : 22412480.0000\n",
      "Epoch [1600/30000], Loss : 22156996.0000\n",
      "Epoch [1700/30000], Loss : 21945278.0000\n",
      "Epoch [1800/30000], Loss : 21756192.0000\n",
      "Epoch [1900/30000], Loss : 21586256.0000\n",
      "Epoch [2000/30000], Loss : 21383810.0000\n",
      "Epoch [2100/30000], Loss : 21012632.0000\n",
      "Epoch [2200/30000], Loss : 20480908.0000\n",
      "Epoch [2300/30000], Loss : 19696538.0000\n",
      "Epoch [2400/30000], Loss : 18976982.0000\n",
      "Epoch [2500/30000], Loss : 18401600.0000\n",
      "Epoch [2600/30000], Loss : 17993406.0000\n",
      "Epoch [2700/30000], Loss : 17616060.0000\n",
      "Epoch [2800/30000], Loss : 17277700.0000\n",
      "Epoch [2900/30000], Loss : 16979342.0000\n",
      "Epoch [3000/30000], Loss : 16576386.0000\n",
      "Epoch [3100/30000], Loss : 16111405.0000\n",
      "Epoch [3200/30000], Loss : 15649558.0000\n",
      "Epoch [3300/30000], Loss : 15197602.0000\n",
      "Epoch [3400/30000], Loss : 14842133.0000\n",
      "Epoch [3500/30000], Loss : 14545440.0000\n",
      "Epoch [3600/30000], Loss : 14258326.0000\n",
      "Epoch [3700/30000], Loss : 14004025.0000\n",
      "Epoch [3800/30000], Loss : 13752596.0000\n",
      "Epoch [3900/30000], Loss : 13512499.0000\n",
      "Epoch [4000/30000], Loss : 13300732.0000\n",
      "Epoch [4100/30000], Loss : 13069271.0000\n",
      "Epoch [4200/30000], Loss : 12859143.0000\n",
      "Epoch [4300/30000], Loss : 12670555.0000\n",
      "Epoch [4400/30000], Loss : 12461136.0000\n",
      "Epoch [4500/30000], Loss : 12260582.0000\n",
      "Epoch [4600/30000], Loss : 12083496.0000\n",
      "Epoch [4700/30000], Loss : 11917342.0000\n",
      "Epoch [4800/30000], Loss : 11741038.0000\n",
      "Epoch [4900/30000], Loss : 11543502.0000\n",
      "Epoch [5000/30000], Loss : 11320711.0000\n",
      "Epoch [5100/30000], Loss : 11147710.0000\n",
      "Epoch [5200/30000], Loss : 10973011.0000\n",
      "Epoch [5300/30000], Loss : 10784007.0000\n",
      "Epoch [5400/30000], Loss : 10613959.0000\n",
      "Epoch [5500/30000], Loss : 10461512.0000\n",
      "Epoch [5600/30000], Loss : 10313777.0000\n",
      "Epoch [5700/30000], Loss : 10175530.0000\n",
      "Epoch [5800/30000], Loss : 10048535.0000\n",
      "Epoch [5900/30000], Loss : 9908059.0000\n",
      "Epoch [6000/30000], Loss : 9806532.0000\n",
      "Epoch [6100/30000], Loss : 9700563.0000\n",
      "Epoch [6200/30000], Loss : 9607869.0000\n",
      "Epoch [6300/30000], Loss : 9512698.0000\n",
      "Epoch [6400/30000], Loss : 9430421.0000\n",
      "Epoch [6500/30000], Loss : 9333393.0000\n",
      "Epoch [6600/30000], Loss : 9206550.0000\n",
      "Epoch [6700/30000], Loss : 9077533.0000\n",
      "Epoch [6800/30000], Loss : 8956103.0000\n",
      "Epoch [6900/30000], Loss : 8830307.0000\n",
      "Epoch [7000/30000], Loss : 8713431.0000\n",
      "Epoch [7100/30000], Loss : 8627962.0000\n",
      "Epoch [7200/30000], Loss : 8547640.0000\n",
      "Epoch [7300/30000], Loss : 8449539.0000\n",
      "Epoch [7400/30000], Loss : 8375517.0000\n",
      "Epoch [7500/30000], Loss : 8302730.0000\n",
      "Epoch [7600/30000], Loss : 8240827.5000\n",
      "Epoch [7700/30000], Loss : 8172649.5000\n",
      "Epoch [7800/30000], Loss : 8111092.5000\n",
      "Epoch [7900/30000], Loss : 8042112.0000\n",
      "Epoch [8000/30000], Loss : 7987219.5000\n",
      "Epoch [8100/30000], Loss : 7912660.5000\n",
      "Epoch [8200/30000], Loss : 7847125.0000\n",
      "Epoch [8300/30000], Loss : 7789222.5000\n",
      "Epoch [8400/30000], Loss : 7737538.0000\n",
      "Epoch [8500/30000], Loss : 7683677.5000\n",
      "Epoch [8600/30000], Loss : 7640723.5000\n",
      "Epoch [8700/30000], Loss : 7583159.0000\n",
      "Epoch [8800/30000], Loss : 7529740.5000\n",
      "Epoch [8900/30000], Loss : 7487050.0000\n",
      "Epoch [9000/30000], Loss : 7451523.5000\n",
      "Epoch [9100/30000], Loss : 7410189.0000\n",
      "Epoch [9200/30000], Loss : 7373572.5000\n",
      "Epoch [9300/30000], Loss : 7325931.5000\n",
      "Epoch [9400/30000], Loss : 7290824.0000\n",
      "Epoch [9500/30000], Loss : 7251802.5000\n",
      "Epoch [9600/30000], Loss : 7213175.5000\n",
      "Epoch [9700/30000], Loss : 7175964.5000\n",
      "Epoch [9800/30000], Loss : 7128152.5000\n",
      "Epoch [9900/30000], Loss : 7087452.5000\n",
      "Epoch [10000/30000], Loss : 7051999.0000\n",
      "Epoch [10100/30000], Loss : 7015753.0000\n",
      "Epoch [10200/30000], Loss : 6919325.5000\n",
      "Epoch [10300/30000], Loss : 6884964.5000\n",
      "Epoch [10400/30000], Loss : 6845830.5000\n",
      "Epoch [10500/30000], Loss : 6805253.0000\n",
      "Epoch [10600/30000], Loss : 6769630.5000\n",
      "Epoch [10700/30000], Loss : 6740217.0000\n",
      "Epoch [10800/30000], Loss : 6708427.5000\n",
      "Epoch [10900/30000], Loss : 6679075.5000\n",
      "Epoch [11000/30000], Loss : 6665671.5000\n",
      "Epoch [11100/30000], Loss : 6624090.5000\n",
      "Epoch [11200/30000], Loss : 6600016.5000\n",
      "Epoch [11300/30000], Loss : 6583665.0000\n",
      "Epoch [11400/30000], Loss : 6555545.0000\n",
      "Epoch [11500/30000], Loss : 6522976.5000\n",
      "Epoch [11600/30000], Loss : 6496630.5000\n",
      "Epoch [11700/30000], Loss : 6471058.5000\n",
      "Epoch [11800/30000], Loss : 6446490.0000\n",
      "Epoch [11900/30000], Loss : 6421314.5000\n",
      "Epoch [12000/30000], Loss : 6386174.0000\n",
      "Epoch [12100/30000], Loss : 6359125.0000\n",
      "Epoch [12200/30000], Loss : 6334661.5000\n",
      "Epoch [12300/30000], Loss : 6313188.0000\n",
      "Epoch [12400/30000], Loss : 6275170.5000\n",
      "Epoch [12500/30000], Loss : 6254202.5000\n",
      "Epoch [12600/30000], Loss : 6235084.5000\n",
      "Epoch [12700/30000], Loss : 6207170.0000\n",
      "Epoch [12800/30000], Loss : 6173076.0000\n",
      "Epoch [12900/30000], Loss : 6146439.0000\n",
      "Epoch [13000/30000], Loss : 6123582.0000\n",
      "Epoch [13100/30000], Loss : 6120931.5000\n",
      "Epoch [13200/30000], Loss : 6082341.5000\n",
      "Epoch [13300/30000], Loss : 6079466.0000\n",
      "Epoch [13400/30000], Loss : 6045533.0000\n",
      "Epoch [13500/30000], Loss : 6036144.5000\n",
      "Epoch [13600/30000], Loss : 6013270.5000\n",
      "Epoch [13700/30000], Loss : 5988147.5000\n",
      "Epoch [13800/30000], Loss : 5978094.0000\n",
      "Epoch [13900/30000], Loss : 5943437.5000\n",
      "Epoch [14000/30000], Loss : 5921500.0000\n",
      "Epoch [14100/30000], Loss : 5905081.0000\n",
      "Epoch [14200/30000], Loss : 5898557.5000\n",
      "Epoch [14300/30000], Loss : 5861567.5000\n",
      "Epoch [14400/30000], Loss : 5841616.5000\n",
      "Epoch [14500/30000], Loss : 5831124.5000\n",
      "Epoch [14600/30000], Loss : 5803898.0000\n",
      "Epoch [14700/30000], Loss : 5789281.5000\n",
      "Epoch [14800/30000], Loss : 5775040.5000\n",
      "Epoch [14900/30000], Loss : 5759870.0000\n",
      "Epoch [15000/30000], Loss : 5731164.5000\n",
      "Epoch [15100/30000], Loss : 5716475.0000\n",
      "Epoch [15200/30000], Loss : 5692082.0000\n",
      "Epoch [15300/30000], Loss : 5675839.5000\n",
      "Epoch [15400/30000], Loss : 5656327.0000\n",
      "Epoch [15500/30000], Loss : 5641081.5000\n",
      "Epoch [15600/30000], Loss : 5629269.5000\n",
      "Epoch [15700/30000], Loss : 5620671.5000\n",
      "Epoch [15800/30000], Loss : 5593463.0000\n",
      "Epoch [15900/30000], Loss : 5608148.0000\n",
      "Epoch [16000/30000], Loss : 5585547.0000\n",
      "Epoch [16100/30000], Loss : 5549658.0000\n",
      "Epoch [16200/30000], Loss : 5559901.5000\n",
      "Epoch [16300/30000], Loss : 5520978.0000\n",
      "Epoch [16400/30000], Loss : 5510111.0000\n",
      "Epoch [16500/30000], Loss : 5479340.5000\n",
      "Epoch [16600/30000], Loss : 5483849.5000\n",
      "Epoch [16700/30000], Loss : 5463837.0000\n",
      "Epoch [16800/30000], Loss : 5440420.5000\n",
      "Epoch [16900/30000], Loss : 5426660.0000\n",
      "Epoch [17000/30000], Loss : 5414831.5000\n",
      "Epoch [17100/30000], Loss : 5388529.0000\n",
      "Epoch [17200/30000], Loss : 5370766.5000\n",
      "Epoch [17300/30000], Loss : 5343895.0000\n",
      "Epoch [17400/30000], Loss : 5347935.5000\n",
      "Epoch [17500/30000], Loss : 5315032.0000\n",
      "Epoch [17600/30000], Loss : 5303111.0000\n",
      "Epoch [17700/30000], Loss : 5287223.5000\n",
      "Epoch [17800/30000], Loss : 5272302.0000\n",
      "Epoch [17900/30000], Loss : 5268943.0000\n",
      "Epoch [18000/30000], Loss : 5256764.0000\n",
      "Epoch [18100/30000], Loss : 5220112.5000\n",
      "Epoch [18200/30000], Loss : 5222873.0000\n",
      "Epoch [18300/30000], Loss : 5194556.5000\n",
      "Epoch [18400/30000], Loss : 5194024.5000\n",
      "Epoch [18500/30000], Loss : 5184225.0000\n",
      "Epoch [18600/30000], Loss : 5145925.5000\n",
      "Epoch [18700/30000], Loss : 5131967.5000\n",
      "Epoch [18800/30000], Loss : 5131111.0000\n",
      "Epoch [18900/30000], Loss : 5102974.5000\n",
      "Epoch [19000/30000], Loss : 5099802.0000\n",
      "Epoch [19100/30000], Loss : 5080482.0000\n",
      "Epoch [19200/30000], Loss : 5057746.5000\n",
      "Epoch [19300/30000], Loss : 5047160.5000\n",
      "Epoch [19400/30000], Loss : 5033792.0000\n",
      "Epoch [19500/30000], Loss : 5040777.5000\n",
      "Epoch [19600/30000], Loss : 5006658.5000\n",
      "Epoch [19700/30000], Loss : 5004927.0000\n",
      "Epoch [19800/30000], Loss : 4997493.0000\n",
      "Epoch [19900/30000], Loss : 4987873.0000\n",
      "Epoch [20000/30000], Loss : 4968767.5000\n",
      "Epoch [20100/30000], Loss : 4960506.0000\n",
      "Epoch [20200/30000], Loss : 4929268.5000\n",
      "Epoch [20300/30000], Loss : 4915750.5000\n",
      "Epoch [20400/30000], Loss : 4905681.5000\n",
      "Epoch [20500/30000], Loss : 4892356.0000\n",
      "Epoch [20600/30000], Loss : 4882436.0000\n",
      "Epoch [20700/30000], Loss : 4870444.5000\n",
      "Epoch [20800/30000], Loss : 4861041.0000\n",
      "Epoch [20900/30000], Loss : 4848383.5000\n",
      "Epoch [21000/30000], Loss : 4848166.0000\n",
      "Epoch [21100/30000], Loss : 4832805.5000\n",
      "Epoch [21200/30000], Loss : 4822611.0000\n",
      "Epoch [21300/30000], Loss : 4809477.5000\n",
      "Epoch [21400/30000], Loss : 4799362.0000\n",
      "Epoch [21500/30000], Loss : 4788759.5000\n",
      "Epoch [21600/30000], Loss : 4781350.0000\n",
      "Epoch [21700/30000], Loss : 4765033.5000\n",
      "Epoch [21800/30000], Loss : 4735561.0000\n",
      "Epoch [21900/30000], Loss : 4745338.5000\n",
      "Epoch [22000/30000], Loss : 4711832.5000\n",
      "Epoch [22100/30000], Loss : 4720534.5000\n",
      "Epoch [22200/30000], Loss : 4690368.0000\n",
      "Epoch [22300/30000], Loss : 4699945.5000\n",
      "Epoch [22400/30000], Loss : 4686140.0000\n",
      "Epoch [22500/30000], Loss : 4669717.0000\n",
      "Epoch [22600/30000], Loss : 4666455.5000\n",
      "Epoch [22700/30000], Loss : 4661149.0000\n",
      "Epoch [22800/30000], Loss : 4634683.0000\n",
      "Epoch [22900/30000], Loss : 4633218.5000\n",
      "Epoch [23000/30000], Loss : 4624712.5000\n",
      "Epoch [23100/30000], Loss : 4607525.5000\n",
      "Epoch [23200/30000], Loss : 4594049.5000\n",
      "Epoch [23300/30000], Loss : 4587933.5000\n",
      "Epoch [23400/30000], Loss : 4589371.5000\n",
      "Epoch [23500/30000], Loss : 4565766.5000\n",
      "Epoch [23600/30000], Loss : 4567546.5000\n",
      "Epoch [23700/30000], Loss : 4547781.0000\n",
      "Epoch [23800/30000], Loss : 4539575.0000\n",
      "Epoch [23900/30000], Loss : 4541795.5000\n",
      "Epoch [24000/30000], Loss : 4538903.0000\n",
      "Epoch [24100/30000], Loss : 4501253.0000\n",
      "Epoch [24200/30000], Loss : 4488937.0000\n",
      "Epoch [24300/30000], Loss : 4485373.5000\n",
      "Epoch [24400/30000], Loss : 4496292.5000\n",
      "Epoch [24500/30000], Loss : 4478750.0000\n",
      "Epoch [24600/30000], Loss : 4456107.5000\n",
      "Epoch [24700/30000], Loss : 4458054.0000\n",
      "Epoch [24800/30000], Loss : 4437960.0000\n",
      "Epoch [24900/30000], Loss : 4447186.0000\n",
      "Epoch [25000/30000], Loss : 4424797.0000\n",
      "Epoch [25100/30000], Loss : 4420773.5000\n",
      "Epoch [25200/30000], Loss : 4420117.0000\n",
      "Epoch [25300/30000], Loss : 4411953.5000\n",
      "Epoch [25400/30000], Loss : 4389593.0000\n",
      "Epoch [25500/30000], Loss : 4380630.5000\n",
      "Epoch [25600/30000], Loss : 4379827.5000\n",
      "Epoch [25700/30000], Loss : 4366895.5000\n",
      "Epoch [25800/30000], Loss : 4373971.0000\n",
      "Epoch [25900/30000], Loss : 4360134.5000\n",
      "Epoch [26000/30000], Loss : 4345032.0000\n",
      "Epoch [26100/30000], Loss : 4335504.0000\n",
      "Epoch [26200/30000], Loss : 4353201.0000\n",
      "Epoch [26300/30000], Loss : 4324319.5000\n",
      "Epoch [26400/30000], Loss : 4310096.0000\n",
      "Epoch [26500/30000], Loss : 4302383.0000\n",
      "Epoch [26600/30000], Loss : 4318886.5000\n",
      "Epoch [26700/30000], Loss : 4305523.5000\n",
      "Epoch [26800/30000], Loss : 4276331.5000\n",
      "Epoch [26900/30000], Loss : 4265949.5000\n",
      "Epoch [27000/30000], Loss : 4256225.5000\n",
      "Epoch [27100/30000], Loss : 4246107.0000\n",
      "Epoch [27200/30000], Loss : 4248474.5000\n",
      "Epoch [27300/30000], Loss : 4246887.0000\n",
      "Epoch [27400/30000], Loss : 4216034.0000\n",
      "Epoch [27500/30000], Loss : 4221087.0000\n",
      "Epoch [27600/30000], Loss : 4210383.0000\n",
      "Epoch [27700/30000], Loss : 4175761.5000\n",
      "Epoch [27800/30000], Loss : 4162606.5000\n",
      "Epoch [27900/30000], Loss : 4166437.7500\n",
      "Epoch [28000/30000], Loss : 4146242.5000\n",
      "Epoch [28100/30000], Loss : 4157849.0000\n",
      "Epoch [28200/30000], Loss : 4127200.0000\n",
      "Epoch [28300/30000], Loss : 4119638.2500\n",
      "Epoch [28400/30000], Loss : 4076270.7500\n",
      "Epoch [28500/30000], Loss : 4075259.2500\n",
      "Epoch [28600/30000], Loss : 4077111.0000\n",
      "Epoch [28700/30000], Loss : 4046238.0000\n",
      "Epoch [28800/30000], Loss : 4034462.5000\n",
      "Epoch [28900/30000], Loss : 4044650.2500\n",
      "Epoch [29000/30000], Loss : 4003849.5000\n",
      "Epoch [29100/30000], Loss : 3991914.5000\n",
      "Epoch [29200/30000], Loss : 4006267.0000\n",
      "Epoch [29300/30000], Loss : 3974993.5000\n",
      "Epoch [29400/30000], Loss : 3958103.0000\n",
      "Epoch [29500/30000], Loss : 3956843.7500\n",
      "Epoch [29600/30000], Loss : 3931532.2500\n",
      "Epoch [29700/30000], Loss : 3936709.5000\n",
      "Epoch [29800/30000], Loss : 3929005.2500\n",
      "Epoch [29900/30000], Loss : 3903809.7500\n",
      "Epoch [30000/30000], Loss : 3895913.2500\n"
     ]
    }
   ],
   "source": [
    "# Training loop\n",
    "epochs = 30000\n",
    "\n",
    "for epoch in range(epochs):\n",
    "    model.train()\n",
    "    optimiser.zero_grad()\n",
    "    predictions = model(X_train_tensor)\n",
    "    loss = criterion(predictions, y_train_tensor)\n",
    "    loss.backward()\n",
    "\n",
    "    optimiser.step()\n",
    "\n",
    "    if (epoch + 1) % 100 == 0:\n",
    "        print(f\"Epoch [{epoch+1}/{epochs}], Loss : {loss.item():.4f}\")"
   ]
  },
  {
   "cell_type": "code",
   "execution_count": 29,
   "id": "f4963c99",
   "metadata": {},
   "outputs": [],
   "source": [
    "# Model Evaluation\n",
    "\n",
    "model.eval()\n",
    "y_pred = model(X_test_tensor).detach().numpy()"
   ]
  },
  {
   "cell_type": "code",
   "execution_count": 30,
   "id": "394e3693",
   "metadata": {},
   "outputs": [
    {
     "name": "stdout",
     "output_type": "stream",
     "text": [
      "MSE : 50296648.0\n",
      "RMSE : 7092.012972351362\n",
      "MAE : 4935.44580078125\n",
      "R2-Score : 0.676025390625\n"
     ]
    }
   ],
   "source": [
    "from sklearn.metrics import mean_squared_error, mean_absolute_error, r2_score\n",
    "\n",
    "y_test_numpy = y_test_tensor.numpy()\n",
    "\n",
    "# Calculate metrics\n",
    "mse = mean_squared_error(y_test_numpy, y_pred)\n",
    "rmse = mse**0.5\n",
    "mae = mean_absolute_error(y_test_numpy, y_pred)\n",
    "r2 = r2_score(y_test_numpy, y_pred)\n",
    "\n",
    "print(f\"MSE : {mse}\")\n",
    "print(f\"RMSE : {rmse}\")\n",
    "print(f\"MAE : {mae}\")\n",
    "print(f\"R2-Score : {r2}\")\n",
    "\n",
    "# 0 --> 0"
   ]
  },
  {
   "cell_type": "code",
   "execution_count": 31,
   "id": "8ec40466",
   "metadata": {},
   "outputs": [],
   "source": [
    "def predict_charges(age, sex, bmi, children, smoker, region):\n",
    "    input_data = pd.DataFrame(\n",
    "        [[age, sex, bmi, children, smoker, region]],\n",
    "        columns=[\"age\", \"sex\", \"bmi\", \"children\", \"smoker\", \"region\"],\n",
    "    )\n",
    "\n",
    "    for col in [\"sex\", \"smoker\", \"region\"]:\n",
    "        input_data[col] = label_encoder[col].transform(input_data[col])\n",
    "    input_data = scaler.transform(input_data)\n",
    "    input_tensor = torch.tensor(input_data, dtype=torch.float32)\n",
    "    predicted_charge = model(input_tensor).item()\n",
    "    return predicted_charge"
   ]
  },
  {
   "cell_type": "code",
   "execution_count": 32,
   "id": "9799d295",
   "metadata": {},
   "outputs": [
    {
     "name": "stdout",
     "output_type": "stream",
     "text": [
      "Predicted insurance charge: $39509.46\n"
     ]
    }
   ],
   "source": [
    "predicted = predict_charges(50, \"female\", 27.9, 0, \"yes\", \"southwest\")\n",
    "print(f\"Predicted insurance charge: ${predicted:.2f}\")"
   ]
  },
  {
   "cell_type": "code",
   "execution_count": null,
   "id": "e5564af4",
   "metadata": {},
   "outputs": [],
   "source": []
  },
  {
   "cell_type": "code",
   "execution_count": null,
   "id": "70cffbf9",
   "metadata": {},
   "outputs": [],
   "source": []
  },
  {
   "cell_type": "code",
   "execution_count": null,
   "id": "24560853",
   "metadata": {},
   "outputs": [],
   "source": []
  },
  {
   "cell_type": "code",
   "execution_count": null,
   "id": "f4014686",
   "metadata": {},
   "outputs": [],
   "source": []
  },
  {
   "cell_type": "code",
   "execution_count": null,
   "id": "a14f0e9d",
   "metadata": {},
   "outputs": [],
   "source": []
  },
  {
   "cell_type": "code",
   "execution_count": null,
   "id": "622a5c32",
   "metadata": {},
   "outputs": [],
   "source": []
  },
  {
   "cell_type": "code",
   "execution_count": null,
   "id": "bcd1d483",
   "metadata": {},
   "outputs": [],
   "source": []
  },
  {
   "cell_type": "code",
   "execution_count": null,
   "id": "332e4502",
   "metadata": {},
   "outputs": [],
   "source": []
  },
  {
   "cell_type": "code",
   "execution_count": null,
   "id": "550a9192",
   "metadata": {},
   "outputs": [],
   "source": []
  },
  {
   "cell_type": "code",
   "execution_count": null,
   "id": "bb425c6f",
   "metadata": {},
   "outputs": [],
   "source": []
  },
  {
   "cell_type": "code",
   "execution_count": null,
   "id": "2319652b",
   "metadata": {},
   "outputs": [],
   "source": []
  },
  {
   "cell_type": "code",
   "execution_count": null,
   "id": "23775b57",
   "metadata": {},
   "outputs": [],
   "source": []
  },
  {
   "cell_type": "code",
   "execution_count": null,
   "id": "af46a023",
   "metadata": {},
   "outputs": [],
   "source": []
  },
  {
   "cell_type": "code",
   "execution_count": null,
   "id": "b9024214",
   "metadata": {},
   "outputs": [],
   "source": []
  },
  {
   "cell_type": "code",
   "execution_count": null,
   "id": "1c4aa9dd",
   "metadata": {},
   "outputs": [],
   "source": []
  },
  {
   "cell_type": "code",
   "execution_count": null,
   "id": "8cf3cff3",
   "metadata": {},
   "outputs": [],
   "source": []
  },
  {
   "cell_type": "code",
   "execution_count": null,
   "id": "741b396c",
   "metadata": {},
   "outputs": [],
   "source": []
  },
  {
   "cell_type": "code",
   "execution_count": null,
   "id": "5614cbf9",
   "metadata": {},
   "outputs": [],
   "source": []
  },
  {
   "cell_type": "code",
   "execution_count": null,
   "id": "e5984a7b",
   "metadata": {},
   "outputs": [],
   "source": []
  },
  {
   "cell_type": "code",
   "execution_count": null,
   "id": "c201ff86",
   "metadata": {},
   "outputs": [],
   "source": []
  },
  {
   "cell_type": "code",
   "execution_count": null,
   "id": "67a8a17d",
   "metadata": {},
   "outputs": [],
   "source": []
  },
  {
   "cell_type": "code",
   "execution_count": null,
   "id": "fec70f90",
   "metadata": {},
   "outputs": [],
   "source": []
  },
  {
   "cell_type": "code",
   "execution_count": null,
   "id": "d7cac080",
   "metadata": {},
   "outputs": [],
   "source": []
  },
  {
   "cell_type": "code",
   "execution_count": null,
   "id": "f4f0b583",
   "metadata": {},
   "outputs": [],
   "source": []
  },
  {
   "cell_type": "code",
   "execution_count": null,
   "id": "5f407622",
   "metadata": {},
   "outputs": [],
   "source": []
  },
  {
   "cell_type": "code",
   "execution_count": null,
   "id": "23a8bf0f",
   "metadata": {},
   "outputs": [],
   "source": []
  },
  {
   "cell_type": "code",
   "execution_count": null,
   "id": "09b8dbf7",
   "metadata": {},
   "outputs": [],
   "source": []
  },
  {
   "cell_type": "code",
   "execution_count": null,
   "id": "89bda67f",
   "metadata": {},
   "outputs": [],
   "source": []
  },
  {
   "cell_type": "code",
   "execution_count": null,
   "id": "cdf44cd9",
   "metadata": {},
   "outputs": [],
   "source": []
  },
  {
   "cell_type": "code",
   "execution_count": null,
   "id": "7083ea04",
   "metadata": {},
   "outputs": [],
   "source": []
  },
  {
   "cell_type": "code",
   "execution_count": null,
   "id": "31bda399",
   "metadata": {},
   "outputs": [],
   "source": []
  },
  {
   "cell_type": "code",
   "execution_count": null,
   "id": "86208a20",
   "metadata": {},
   "outputs": [],
   "source": []
  },
  {
   "cell_type": "code",
   "execution_count": null,
   "id": "2e3ff49c",
   "metadata": {},
   "outputs": [],
   "source": []
  },
  {
   "cell_type": "code",
   "execution_count": null,
   "id": "e2ee4ceb",
   "metadata": {},
   "outputs": [],
   "source": []
  }
 ],
 "metadata": {
  "kernelspec": {
   "display_name": "base",
   "language": "python",
   "name": "python3"
  },
  "language_info": {
   "codemirror_mode": {
    "name": "ipython",
    "version": 3
   },
   "file_extension": ".py",
   "mimetype": "text/x-python",
   "name": "python",
   "nbconvert_exporter": "python",
   "pygments_lexer": "ipython3",
   "version": "3.12.3"
  }
 },
 "nbformat": 4,
 "nbformat_minor": 5
}
